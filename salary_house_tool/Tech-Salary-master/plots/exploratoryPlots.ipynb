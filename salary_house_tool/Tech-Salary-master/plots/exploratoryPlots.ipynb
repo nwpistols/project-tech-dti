{
 "metadata": {
  "language_info": {
   "codemirror_mode": {
    "name": "ipython",
    "version": 3
   },
   "file_extension": ".py",
   "mimetype": "text/x-python",
   "name": "python",
   "nbconvert_exporter": "python",
   "pygments_lexer": "ipython3",
   "version": "3.8.5-final"
  },
  "orig_nbformat": 2,
  "kernelspec": {
   "name": "python_defaultSpec_1598619149833",
   "display_name": "Python 3.8.5 64-bit"
  }
 },
 "nbformat": 4,
 "nbformat_minor": 2,
 "cells": [
  {
   "cell_type": "code",
   "execution_count": 5,
   "metadata": {},
   "outputs": [
    {
     "ename": "NotADirectoryError",
     "evalue": "[Errno 20] Not a directory: '/Users/SoundComputer/Downloads/salary_house_tool/Tech-Salary-master/entryLevel.csv'",
     "output_type": "error",
     "traceback": [
      "\u001B[0;31m---------------------------------------------------------------------------\u001B[0m",
      "\u001B[0;31mNotADirectoryError\u001B[0m                        Traceback (most recent call last)",
      "\u001B[0;32m/var/folders/p7/r3dp6z955dg4vnxpbw6h4z9h0000gn/T/ipykernel_78745/2745545963.py\u001B[0m in \u001B[0;36m<module>\u001B[0;34m\u001B[0m\n\u001B[1;32m      8\u001B[0m \u001B[0;32mimport\u001B[0m \u001B[0mos\u001B[0m\u001B[0;34m\u001B[0m\u001B[0;34m\u001B[0m\u001B[0m\n\u001B[1;32m      9\u001B[0m \u001B[0mget_ipython\u001B[0m\u001B[0;34m(\u001B[0m\u001B[0;34m)\u001B[0m\u001B[0;34m.\u001B[0m\u001B[0mrun_line_magic\u001B[0m\u001B[0;34m(\u001B[0m\u001B[0;34m'matplotlib'\u001B[0m\u001B[0;34m,\u001B[0m \u001B[0;34m'inline'\u001B[0m\u001B[0;34m)\u001B[0m\u001B[0;34m\u001B[0m\u001B[0;34m\u001B[0m\u001B[0m\n\u001B[0;32m---> 10\u001B[0;31m \u001B[0mos\u001B[0m\u001B[0;34m.\u001B[0m\u001B[0mchdir\u001B[0m\u001B[0;34m(\u001B[0m\u001B[0;34m\"/Users/SoundComputer/Downloads/salary_house_tool/Tech-Salary-master/entryLevel.csv\"\u001B[0m\u001B[0;34m)\u001B[0m\u001B[0;34m\u001B[0m\u001B[0;34m\u001B[0m\u001B[0m\n\u001B[0m\u001B[1;32m     11\u001B[0m \u001B[0mplt\u001B[0m\u001B[0;34m.\u001B[0m\u001B[0mstyle\u001B[0m\u001B[0;34m.\u001B[0m\u001B[0muse\u001B[0m\u001B[0;34m(\u001B[0m\u001B[0;34m'bmh'\u001B[0m\u001B[0;34m)\u001B[0m\u001B[0;34m\u001B[0m\u001B[0;34m\u001B[0m\u001B[0m\n",
      "\u001B[0;31mNotADirectoryError\u001B[0m: [Errno 20] Not a directory: '/Users/SoundComputer/Downloads/salary_house_tool/Tech-Salary-master/entryLevel.csv'"
     ]
    }
   ],
   "source": [
    "import numpy as np \n",
    "import pandas as pd\n",
    "import matplotlib.pyplot as plt\n",
    "# noinspection PyUnresolvedReferences\n",
    "import csv\n",
    "# noinspection PyUnresolvedReferences\n",
    "import seaborn as sns\n",
    "import os \n",
    "%matplotlib inline\n",
    "os.chdir(\"/Users/SoundComputer/Downloads/salary_house_tool/Tech-Salary-master/entryLevel.csv\")\n",
    "plt.style.use('bmh')"
   ]
  },
  {
   "cell_type": "code",
   "execution_count": null,
   "metadata": {},
   "outputs": [],
   "source": [
    "datapath = \"/Users/SoundComputer/Downloads/salary_house_tool/Tech-Salary-master/entryLevel.csv\"\n",
    "df = pd.read_csv(datapath)\n",
    "datapath2 = (\"/Users/susanchen/Desktop/TechSalary/levelsFYIallSalary.csv\")\n",
    "df2 = pd.read_csv(datapath2)"
   ]
  },
  {
   "cell_type": "code",
   "execution_count": null,
   "metadata": {},
   "outputs": [],
   "source": [
    "df.drop(\"Unnamed: 0\", axis =1, inplace=True)\n",
    "df2.drop(\"Unnamed: 0\", axis =1, inplace=True)"
   ]
  },
  {
   "cell_type": "code",
   "execution_count": null,
   "metadata": {},
   "outputs": [],
   "source": [
    "#recoding Company\n",
    "conditions = [\n",
    "    (df['company'] == \"Facebook\"),\n",
    "    (df['company'] == \"Amazon\"),\n",
    "    (df['company'] == \"Apple\"),\n",
    "    (df['company'] == \"Google\"),\n",
    "    (df['company'] == \"Twitter\"),\n",
    "    (df['company'] == \"Microsoft\")\n",
    "    ]\n",
    "\n",
    "values = ['Facebook','Amazon','Apple','Google','Twitter', 'Microsoft']\n",
    "df['Company'] = np.select(conditions, values)\n",
    "\n",
    "\n",
    "def company(series):\n",
    "    if series == '0':\n",
    "        return 'Others'\n",
    "    else:\n",
    "        return series\n",
    "\n",
    "df['Company'] = df['Company'].apply(company)\n",
    "\n",
    "df"
   ]
  },
  {
   "cell_type": "code",
   "execution_count": null,
   "metadata": {},
   "outputs": [],
   "source": [
    "df2"
   ]
  },
  {
   "cell_type": "code",
   "execution_count": null,
   "metadata": {},
   "outputs": [],
   "source": [
    "#recoding Company\n",
    "conditions2 = [\n",
    "    (df2['company'] == \"Facebook\"),\n",
    "    (df2['company'] == \"Amazon\"),\n",
    "    (df2['company'] == \"Apple\"),\n",
    "    (df2['company'] == \"Google\"),\n",
    "    (df2['company'] == \"Twitter\"),\n",
    "    (df2['company'] == \"Microsoft\")\n",
    "    ]\n",
    "\n",
    "values = ['Facebook','Amazon','Apple','Google','Twitter', 'Microsoft']\n",
    "df2['Company'] = np.select(conditions2, values)\n",
    "\n",
    "\n",
    "def company(series):\n",
    "    if series == '0':\n",
    "        return 'Others'\n",
    "    else:\n",
    "        return series\n",
    "\n",
    "df2['Company'] = df2['Company'].apply(company)\n",
    "\n",
    "df2"
   ]
  },
  {
   "cell_type": "code",
   "execution_count": null,
   "metadata": {},
   "outputs": [],
   "source": [
    "df.groupby([\"title\", \"Company\"]).size()"
   ]
  },
  {
   "cell_type": "code",
   "execution_count": null,
   "metadata": {},
   "outputs": [],
   "source": [
    "df[\"title\"].value_counts()"
   ]
  },
  {
   "cell_type": "code",
   "execution_count": null,
   "metadata": {},
   "outputs": [],
   "source": [
    "df[\"Company\"].value_counts()\n"
   ]
  },
  {
   "cell_type": "code",
   "execution_count": null,
   "metadata": {},
   "outputs": [],
   "source": [
    "plot1 = df.groupby('Company').totalyearlycompensation.mean().sort_values().plot.barh(grid= True, title = \"Facebook and Twitter pays the most for entry level tech jobs on average \")\n",
    "plot1.set_xlabel('Total Yearly Compensation (in thousands)', fontsize =15)\n",
    "plot1.set_ylabel('Company', fontsize =15)\n",
    "\n",
    "\n",
    "#Facebook and Twitter pays the most for entry level tech jobs on average "
   ]
  },
  {
   "cell_type": "code",
   "execution_count": null,
   "metadata": {},
   "outputs": [],
   "source": [
    "plot2 =df.groupby('title').totalyearlycompensation.mean().sort_values().plot.bar(grid= True, title = \"Data Scientists Earn the Most \\n on Average\", rot = -45, fontsize = 12)\n",
    "#plot2.set(label= 'Job Title', ylabel = 'Mean Yearly Compensation (in thousands)')\n",
    "plot2.set_xlabel('Job Title', fontsize = 15)\n",
    "plot2.set_ylabel('Mean Yearly Compensation (in thousands)', fontsize= 15)\n",
    "\n",
    "\n",
    "for tick in plot2.xaxis.get_majorticklabels():\n",
    "    tick.set_horizontalalignment(\"left\")\n",
    "#data scientist earn the most on average "
   ]
  },
  {
   "cell_type": "code",
   "execution_count": null,
   "metadata": {},
   "outputs": [],
   "source": [
    "plot4 = df.boxplot(patch_artist = True,\n",
    "                   column = 'compartmentalisation',\n",
    "                   fontsize = 15,\n",
    "                   by ='Company', \n",
    "                   vert = False, \n",
    "                   showfliers= False, \n",
    "                   showmeans = True, \n",
    "                   meanline = True, \n",
    "                   whis = \"range\", \n",
    "                   medianprops={'linestyle': '--', 'linewidth': 2.5, 'color': 'orange'}, \n",
    "                   meanprops ={\"linewidth\": 2.5},\n",
    "                   whiskerprops ={'linestyle': '--', 'linewidth': 2, \"color\": 'black'},\n",
    "                   capprops ={'linewidth':2 })\n",
    "                   #boxprops = {'color':'black'})\n",
    "#plt.legend()\n",
    "plt.suptitle('')\n",
    "plt.figure(figsize=(15,10))\n",
    "plot4.set_title('Entry Level Salary Median, Range, and IQR by Comany', fontsize =22)\n",
    "plot4.set_xlabel('Total Yearly Compensation (in thousands)', fontsize=20)"
   ]
  },
  {
   "cell_type": "code",
   "execution_count": null,
   "metadata": {
    "tags": []
   },
   "outputs": [],
   "source": [
    "#plt.rcParams[\"figure.figsize\"] = (15,10)\n",
    "plot3 = df.boxplot(patch_artist = True,\n",
    "                   column = 'totalyearlycompensation',\n",
    "                   fontsize = 15,\n",
    "                   by ='title', \n",
    "                   vert = False, \n",
    "                   showfliers= False, \n",
    "                   showmeans = True, \n",
    "                   meanline = True, \n",
    "                   whis = \"range\", \n",
    "                   medianprops={'linestyle': '--', 'linewidth': 2.5, 'color': 'orange'}, \n",
    "                   meanprops ={\"linewidth\": 2.5},\n",
    "                   whiskerprops ={'linestyle': '--', 'linewidth': 2, \"color\": 'black'},\n",
    "                   capprops ={'linewidth':2 })\n",
    "                   #boxprops = {'color':'black'})\n",
    "#plt.legend()\n",
    "plt.suptitle('')\n",
    "plt.figure(figsize=(15,10))\n",
    "plot3.set_title('Entry Level Salary Median, Range, and IQR by title', fontsize =22)\n",
    "plot3.set_xlabel('Total Yearly Compensation (in thousands)', fontsize=20)\n",
    "\n",
    "\n",
    "  "
   ]
  }
 ]
}